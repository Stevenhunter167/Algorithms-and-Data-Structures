{
 "cells": [
  {
   "cell_type": "markdown",
   "metadata": {},
   "source": [
    "## The Computational Model (Classical Computer)"
   ]
  },
  {
   "cell_type": "markdown",
   "metadata": {},
   "source": [
    "#### Random Access Machine: RAM\n",
    "All the primitive operations include:\n",
    "1. Assigning a value to a variable\n",
    "2. Calling a function\n",
    "3. Arithmetic operation\n",
    "4. Comparison operation\n",
    "5. Indexing into an array\n",
    "6. Pointer dereference\n",
    "7. return from function"
   ]
  },
  {
   "cell_type": "code",
   "execution_count": null,
   "metadata": {},
   "outputs": [],
   "source": []
  },
  {
   "cell_type": "markdown",
   "metadata": {},
   "source": [
    "## How to Measure Algorithm Performance"
   ]
  },
  {
   "cell_type": "markdown",
   "metadata": {},
   "source": [
    "Count the number of RAM operations for a given input"
   ]
  },
  {
   "cell_type": "code",
   "execution_count": null,
   "metadata": {},
   "outputs": [],
   "source": []
  },
  {
   "cell_type": "markdown",
   "metadata": {},
   "source": [
    "## Performace Measure Example: Finding Maximum"
   ]
  },
  {
   "cell_type": "code",
   "execution_count": 3,
   "metadata": {},
   "outputs": [],
   "source": [
    "def maximum(A, n):     # # of RAM operations, type of operation\n",
    "    \n",
    "    v = float('-inf')  # 1, Assigning a value\n",
    "    \n",
    "    for i in range(n): # 3n + 1,\n",
    "                       #   n Arithmetic operation (i + 1)\n",
    "                       #   n Assigning a value (i = i + 1)\n",
    "                       #   n + 1 Comparison operation (i < n)\n",
    "                    \n",
    "        if A[i] > v:   # n, Comparison operation\n",
    "            v = A[i]   # X,\n",
    "                       #   a random variable X that has (0 < X <= 2n)\n",
    "    return v           # 1"
   ]
  },
  {
   "cell_type": "markdown",
   "metadata": {},
   "source": [
    "#### Measuring the total running time of the above algorithm\n",
    "$$ T(n) = 1 + 3n + 1 + n + X + 1\\quad(0 < X <= 2n) $$\n",
    "\n",
    "Which is reduced to:\n",
    "\n",
    "$$ T(n) = 4n + 3 + X\\quad(0 < X <= 2n) $$\n",
    "\n",
    "Which means that the running time of this algorithm is proportional to the input size n."
   ]
  },
  {
   "cell_type": "code",
   "execution_count": null,
   "metadata": {},
   "outputs": [],
   "source": []
  }
 ],
 "metadata": {
  "kernelspec": {
   "display_name": "Python 3",
   "language": "python",
   "name": "python3"
  },
  "language_info": {
   "codemirror_mode": {
    "name": "ipython",
    "version": 3
   },
   "file_extension": ".py",
   "mimetype": "text/x-python",
   "name": "python",
   "nbconvert_exporter": "python",
   "pygments_lexer": "ipython3",
   "version": "3.8.4"
  }
 },
 "nbformat": 4,
 "nbformat_minor": 4
}
