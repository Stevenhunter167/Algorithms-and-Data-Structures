{
 "cells": [
  {
   "cell_type": "markdown",
   "metadata": {},
   "source": [
    "## 1. Analysis of Algorithms"
   ]
  },
  {
   "cell_type": "markdown",
   "metadata": {},
   "source": [
    "#### 1. Correctness\n",
    "Prove that the algorithm will correctly handle all situations described by the problem. \n",
    "#### 2. Performance\n",
    "Performance measure under quantitative representation of the resources (RAM, disk, time). Usually using RAM model (will mention later). \n",
    "#### 3. Scalability\n",
    "Good questions to ask: what happens if this part becomes huge (what happens if input size is large, or a part of input is large)."
   ]
  },
  {
   "cell_type": "markdown",
   "metadata": {},
   "source": [
    "## 2. Correctness: example"
   ]
  },
  {
   "cell_type": "markdown",
   "metadata": {},
   "source": [
    "#### Problem description\n",
    "Given an array A of integers with length n, find the maximum integer of the array."
   ]
  },
  {
   "cell_type": "markdown",
   "metadata": {},
   "source": [
    "#### Algorithm"
   ]
  },
  {
   "cell_type": "code",
   "execution_count": null,
   "metadata": {},
   "outputs": [],
   "source": [
    "def maximum(A, n):\n",
    "    v = float('-inf')\n",
    "    for i in range(n):\n",
    "        if A[i] > v:\n",
    "            v = A[i]\n",
    "    return v"
   ]
  },
  {
   "cell_type": "markdown",
   "metadata": {},
   "source": [
    "#### Proof of correctness\n",
    "At the end of iteration i, v is the maximum of the subarray: A[0:i].\n",
    "\n",
    "Therefore, at the end of iteration n, v is the maximun of the array: A."
   ]
  },
  {
   "cell_type": "code",
   "execution_count": null,
   "metadata": {},
   "outputs": [],
   "source": []
  }
 ],
 "metadata": {
  "kernelspec": {
   "display_name": "Python 3",
   "language": "python",
   "name": "python3"
  },
  "language_info": {
   "codemirror_mode": {
    "name": "ipython",
    "version": 3
   },
   "file_extension": ".py",
   "mimetype": "text/x-python",
   "name": "python",
   "nbconvert_exporter": "python",
   "pygments_lexer": "ipython3",
   "version": "3.8.4"
  }
 },
 "nbformat": 4,
 "nbformat_minor": 4
}
