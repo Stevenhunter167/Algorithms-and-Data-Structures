{
 "cells": [
  {
   "cell_type": "markdown",
   "metadata": {},
   "source": [
    "## 1. Proof of average running time of max()\n",
    "\n",
    "recall that the code for max:"
   ]
  },
  {
   "cell_type": "code",
   "execution_count": 1,
   "metadata": {},
   "outputs": [],
   "source": [
    "def maximum(A, n):     # # of RAM operations, type of operation\n",
    "    \n",
    "    v = float('-inf')  # 1, Assigning a value\n",
    "    \n",
    "    for i in range(n): # 3n + 1,\n",
    "                       #   n Arithmetic operation (i + 1)\n",
    "                       #   n Assigning a value (i = i + 1)\n",
    "                       #   n + 1 Comparison operation (i < n)\n",
    "                    \n",
    "        if A[i] > v:   # n, Comparison operation\n",
    "            v = A[i]   # X,\n",
    "                       #   a random variable X that has (0 < X <= 2n)\n",
    "    return v           # 1"
   ]
  },
  {
   "cell_type": "markdown",
   "metadata": {},
   "source": [
    "#### Assume\n",
    "1. all possible orderings are equally likely (meaning each value has a equall probability being the largest value of the subarray A[0-i])\n",
    "2. all n elements of A are distinct\n",
    "3. update takes O(1), any other operation takes O(1)\n",
    "\n",
    "#### Key idea\n",
    "The running maximum gets updated on iteration i if and only if max([A[0] ... A[i]]) = A[i]. Since the probability of each value bing the largest value of the subarray is known, we can calculate the total expected update count of this algorithm.\n",
    "\n",
    "#### Set up indicator random variable Xi\n",
    "if v updated on iteration i $$ Xi = 0 $$\n",
    "else $$ Xi = 1 $$\n",
    "\n",
    "#### The distribution of Xi\n",
    "$$P(Xi=1)=\\frac{1}{i+1}$$\n",
    "$$ \\ $$\n",
    "$$P(Xi=0)=1-\\frac{1}{i+1}=\\frac{i}{i+1}$$\n",
    "\n",
    "#### The Expectation of Xi\n",
    "$$E(Xi)=\\sum_{Xi \\in \\{0,1\\}} Xi \\cdot P(X=Xi)=\\frac{1}{i+1}$$\n",
    "\n",
    "#### Total exact updates\n",
    "$$X=\\sum_{i=0}^{n-1}Xi$$\n",
    "\n",
    "#### Total expected updates\n",
    "$$E(X)=E(\\sum_{i=0}^{n-1}Xi)=E(X_0+ \\ ... \\ +X_{n-1})$$\n",
    "\n",
    "#### which reduce to the nth harmonic number\n",
    "$$E(X)=\\sum_{i=1}^{n}\\frac{1}{i}=H_n$$\n",
    "\n",
    "#### because (gamma is Euler's constant)\n",
    "$$ H(n)=ln(n)+\\gamma+o(1) $$\n",
    "\n",
    "#### The average case running time T(n) of max(A, n) is\n",
    "$$T(n) \\in O(log(n))$$"
   ]
  },
  {
   "cell_type": "code",
   "execution_count": null,
   "metadata": {},
   "outputs": [],
   "source": []
  }
 ],
 "metadata": {
  "kernelspec": {
   "display_name": "Python 3",
   "language": "python",
   "name": "python3"
  },
  "language_info": {
   "codemirror_mode": {
    "name": "ipython",
    "version": 3
   },
   "file_extension": ".py",
   "mimetype": "text/x-python",
   "name": "python",
   "nbconvert_exporter": "python",
   "pygments_lexer": "ipython3",
   "version": "3.8.4"
  }
 },
 "nbformat": 4,
 "nbformat_minor": 4
}
